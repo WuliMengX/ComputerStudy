{
 "cells": [
  {
   "cell_type": "code",
   "execution_count": 1,
   "id": "initial_id",
   "metadata": {
    "ExecuteTime": {
     "end_time": "2023-08-16T10:31:00.471043Z",
     "start_time": "2023-08-16T10:30:54.712967Z"
    },
    "collapsed": true
   },
   "outputs": [],
   "source": [
    "import matplotlib as mpl\n",
    "import matplotlib.pyplot as plt\n",
    "import numpy as np\n",
    "from sklearn.metrics import mean_squared_error, r2_score"
   ]
  },
  {
   "cell_type": "code",
   "execution_count": 2,
   "id": "168d254a8d3e619e",
   "metadata": {
    "ExecuteTime": {
     "end_time": "2023-08-16T10:31:00.496272Z",
     "start_time": "2023-08-16T10:31:00.477063Z"
    },
    "collapsed": false
   },
   "outputs": [],
   "source": [
    "X1 = np.array([10, 15, 20, 30, 50, 60, 60, 70]).reshape((-1, 1))  # -1表示未知的行和列数\n",
    "\n",
    "Y = np.array([0.8, 1.0, 1.8, 2.0, 3.2, 3.0, 3.1, 3.5]).reshape((-1, 1))"
   ]
  },
  {
   "cell_type": "code",
   "execution_count": 3,
   "id": "2e73685bbe0e8216",
   "metadata": {
    "ExecuteTime": {
     "end_time": "2023-08-16T10:31:00.553664Z",
     "start_time": "2023-08-16T10:31:00.485302Z"
    },
    "collapsed": false
   },
   "outputs": [
    {
     "data": {
      "text/plain": [
       "array([[10],\n",
       "       [15],\n",
       "       [20],\n",
       "       [30],\n",
       "       [50],\n",
       "       [60],\n",
       "       [60],\n",
       "       [70]])"
      ]
     },
     "execution_count": 3,
     "metadata": {},
     "output_type": "execute_result"
    }
   ],
   "source": [
    "X1"
   ]
  },
  {
   "cell_type": "code",
   "execution_count": 4,
   "id": "fa321055fa007dcd",
   "metadata": {
    "ExecuteTime": {
     "end_time": "2023-08-16T10:31:00.660525Z",
     "start_time": "2023-08-16T10:31:00.527128Z"
    },
    "collapsed": false
   },
   "outputs": [
    {
     "data": {
      "text/plain": [
       "array([[0.8],\n",
       "       [1. ],\n",
       "       [1.8],\n",
       "       [2. ],\n",
       "       [3.2],\n",
       "       [3. ],\n",
       "       [3.1],\n",
       "       [3.5]])"
      ]
     },
     "execution_count": 4,
     "metadata": {},
     "output_type": "execute_result"
    }
   ],
   "source": [
    "Y"
   ]
  },
  {
   "cell_type": "code",
   "execution_count": 5,
   "id": "6ff7647b88d61196",
   "metadata": {
    "ExecuteTime": {
     "end_time": "2023-08-16T10:31:00.665002Z",
     "start_time": "2023-08-16T10:31:00.551571Z"
    },
    "collapsed": false
   },
   "outputs": [
    {
     "data": {
      "text/plain": [
       "array([[ 1, 10],\n",
       "       [ 1, 15],\n",
       "       [ 1, 20],\n",
       "       [ 1, 30],\n",
       "       [ 1, 50],\n",
       "       [ 1, 60],\n",
       "       [ 1, 60],\n",
       "       [ 1, 70]])"
      ]
     },
     "execution_count": 5,
     "metadata": {},
     "output_type": "execute_result"
    }
   ],
   "source": [
    "X = np.column_stack((np.ones_like(X1), X1))  # 将两个数组以列的方式组合\n",
    "X"
   ]
  },
  {
   "cell_type": "code",
   "execution_count": 6,
   "id": "6168371c9bb84573",
   "metadata": {
    "ExecuteTime": {
     "end_time": "2023-08-16T10:31:00.704952Z",
     "start_time": "2023-08-16T10:31:00.560898Z"
    },
    "collapsed": false
   },
   "outputs": [],
   "source": [
    "X = np.mat(X)  # 将数组转换为矩阵 返回类型为matrix\n",
    "\n",
    "Y = np.mat(Y)"
   ]
  },
  {
   "cell_type": "code",
   "execution_count": 7,
   "id": "bbec8102062c5862",
   "metadata": {
    "ExecuteTime": {
     "end_time": "2023-08-16T10:31:00.708850Z",
     "start_time": "2023-08-16T10:31:00.579211Z"
    },
    "collapsed": false
   },
   "outputs": [
    {
     "data": {
      "text/plain": [
       "matrix([[ 1, 10],\n",
       "        [ 1, 15],\n",
       "        [ 1, 20],\n",
       "        [ 1, 30],\n",
       "        [ 1, 50],\n",
       "        [ 1, 60],\n",
       "        [ 1, 60],\n",
       "        [ 1, 70]])"
      ]
     },
     "execution_count": 7,
     "metadata": {},
     "output_type": "execute_result"
    }
   ],
   "source": [
    "X"
   ]
  },
  {
   "cell_type": "code",
   "execution_count": 8,
   "id": "eb94e1688f817f3e",
   "metadata": {
    "ExecuteTime": {
     "end_time": "2023-08-16T10:31:00.724734Z",
     "start_time": "2023-08-16T10:31:00.611840Z"
    },
    "collapsed": false
   },
   "outputs": [
    {
     "data": {
      "text/plain": [
       "matrix([[0.8],\n",
       "        [1. ],\n",
       "        [1.8],\n",
       "        [2. ],\n",
       "        [3.2],\n",
       "        [3. ],\n",
       "        [3.1],\n",
       "        [3.5]])"
      ]
     },
     "execution_count": 8,
     "metadata": {},
     "output_type": "execute_result"
    }
   ],
   "source": [
    "Y"
   ]
  },
  {
   "cell_type": "code",
   "execution_count": 9,
   "id": "777faffa977392ca",
   "metadata": {
    "ExecuteTime": {
     "end_time": "2023-08-16T10:31:00.726339Z",
     "start_time": "2023-08-16T10:31:00.636031Z"
    },
    "collapsed": false
   },
   "outputs": [
    {
     "data": {
      "text/plain": [
       "matrix([[0.5949305 ],\n",
       "        [0.04330335]])"
      ]
     },
     "execution_count": 9,
     "metadata": {},
     "output_type": "execute_result"
    }
   ],
   "source": [
    "theta = (X.T * X).I * X.T * Y\n",
    "\n",
    "theta"
   ]
  },
  {
   "cell_type": "code",
   "execution_count": 10,
   "id": "38909ce0541653fe",
   "metadata": {
    "ExecuteTime": {
     "end_time": "2023-08-16T10:31:00.731817Z",
     "start_time": "2023-08-16T10:31:00.653904Z"
    },
    "collapsed": false
   },
   "outputs": [
    {
     "data": {
      "text/plain": [
       "matrix([[1.02796402],\n",
       "        [1.24448078],\n",
       "        [1.46099755],\n",
       "        [1.89403107],\n",
       "        [2.76009812],\n",
       "        [3.19313164],\n",
       "        [3.19313164],\n",
       "        [3.62616517]])"
      ]
     },
     "execution_count": 10,
     "metadata": {},
     "output_type": "execute_result"
    }
   ],
   "source": [
    "predict_y = X * theta\n",
    "\n",
    "predict_y"
   ]
  },
  {
   "cell_type": "code",
   "execution_count": 11,
   "id": "824a47cc1ad41040",
   "metadata": {
    "ExecuteTime": {
     "end_time": "2023-08-16T10:31:00.911758Z",
     "start_time": "2023-08-16T10:31:00.670628Z"
    },
    "collapsed": false
   },
   "outputs": [
    {
     "name": "stdout",
     "output_type": "stream",
     "text": [
      "MSE 0.06166189697465254\n"
     ]
    }
   ],
   "source": [
    "mse = mean_squared_error(y_true=np.asarray(Y), y_pred=np.asarray(predict_y)) \n",
    "# 输入真实值与预测值的数组形式 不支持矩阵\n",
    "\n",
    "print(\"MSE\", mse)"
   ]
  },
  {
   "cell_type": "code",
   "execution_count": 12,
   "id": "e1e40143990469d7",
   "metadata": {
    "ExecuteTime": {
     "end_time": "2023-08-16T10:31:00.912752Z",
     "start_time": "2023-08-16T10:31:00.687526Z"
    },
    "collapsed": false
   },
   "outputs": [
    {
     "name": "stdout",
     "output_type": "stream",
     "text": [
      "r^2 0.9356011519846971\n"
     ]
    }
   ],
   "source": [
    "r2 = r2_score(y_true=np.asarray(Y), y_pred=np.asarray(predict_y))\n",
    "\n",
    "print(\"r^2\", r2)"
   ]
  },
  {
   "cell_type": "code",
   "execution_count": 13,
   "id": "f26e6d703508988",
   "metadata": {
    "ExecuteTime": {
     "end_time": "2023-08-16T10:31:00.959517Z",
     "start_time": "2023-08-16T10:31:00.736186Z"
    },
    "collapsed": false
   },
   "outputs": [
    {
     "name": "stdout",
     "output_type": "stream",
     "text": [
      "价格： [[2.97661488]]\n"
     ]
    }
   ],
   "source": [
    "x_test = [[1, 55]]\n",
    "\n",
    "y_test_hat = x_test * theta\n",
    "\n",
    "print(\"价格：\", y_test_hat)"
   ]
  }
 ],
 "metadata": {
  "kernelspec": {
   "display_name": "pytorch",
   "language": "python",
   "name": "python3"
  },
  "language_info": {
   "codemirror_mode": {
    "name": "ipython",
    "version": 3
   },
   "file_extension": ".py",
   "mimetype": "text/x-python",
   "name": "python",
   "nbconvert_exporter": "python",
   "pygments_lexer": "ipython3",
   "version": "3.9.17"
  }
 },
 "nbformat": 4,
 "nbformat_minor": 5
}
